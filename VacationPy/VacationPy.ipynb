{
 "cells": [
  {
   "cell_type": "code",
   "execution_count": 7,
   "id": "70cadd90",
   "metadata": {},
   "outputs": [
    {
     "data": {
      "text/plain": [
       "'C:\\\\Users\\\\cwest\\\\Desktop\\\\Bootcamp\\\\Keep it Organized\\\\Out-Of-Class\\\\Module 6\\\\python-api-challenge\\\\VacationPy'"
      ]
     },
     "execution_count": 7,
     "metadata": {},
     "output_type": "execute_result"
    }
   ],
   "source": [
    "pwd"
   ]
  },
  {
   "cell_type": "code",
   "execution_count": 3,
   "id": "ed93956a",
   "metadata": {},
   "outputs": [],
   "source": [
    "# Dependencies and Setup\n",
    "import hvplot.pandas\n",
    "import pandas as pd\n",
    "import requests\n",
    "\n",
    "# Import API key\n",
    "from api_keys import vacation_key"
   ]
  },
  {
   "cell_type": "code",
   "execution_count": 6,
   "id": "74223651",
   "metadata": {},
   "outputs": [
    {
     "data": {
      "text/html": [
       "<div>\n",
       "<style scoped>\n",
       "    .dataframe tbody tr th:only-of-type {\n",
       "        vertical-align: middle;\n",
       "    }\n",
       "\n",
       "    .dataframe tbody tr th {\n",
       "        vertical-align: top;\n",
       "    }\n",
       "\n",
       "    .dataframe thead th {\n",
       "        text-align: right;\n",
       "    }\n",
       "</style>\n",
       "<table border=\"1\" class=\"dataframe\">\n",
       "  <thead>\n",
       "    <tr style=\"text-align: right;\">\n",
       "      <th></th>\n",
       "      <th>City_ID</th>\n",
       "      <th>City</th>\n",
       "      <th>Lat</th>\n",
       "      <th>Lng</th>\n",
       "      <th>Max Temp</th>\n",
       "      <th>Humidity</th>\n",
       "      <th>Cloudiness</th>\n",
       "      <th>Wind Speed</th>\n",
       "      <th>Country</th>\n",
       "      <th>Date</th>\n",
       "    </tr>\n",
       "  </thead>\n",
       "  <tbody>\n",
       "    <tr>\n",
       "      <th>0</th>\n",
       "      <td>0</td>\n",
       "      <td>adamstown</td>\n",
       "      <td>-25.0660</td>\n",
       "      <td>-130.1015</td>\n",
       "      <td>24.26</td>\n",
       "      <td>72</td>\n",
       "      <td>75</td>\n",
       "      <td>5.26</td>\n",
       "      <td>PN</td>\n",
       "      <td>1684944719</td>\n",
       "    </tr>\n",
       "    <tr>\n",
       "      <th>1</th>\n",
       "      <td>1</td>\n",
       "      <td>ust-nera</td>\n",
       "      <td>64.5667</td>\n",
       "      <td>143.2000</td>\n",
       "      <td>1.61</td>\n",
       "      <td>98</td>\n",
       "      <td>100</td>\n",
       "      <td>1.15</td>\n",
       "      <td>RU</td>\n",
       "      <td>1684944810</td>\n",
       "    </tr>\n",
       "    <tr>\n",
       "      <th>2</th>\n",
       "      <td>2</td>\n",
       "      <td>bethel</td>\n",
       "      <td>41.3712</td>\n",
       "      <td>-73.4140</td>\n",
       "      <td>23.56</td>\n",
       "      <td>55</td>\n",
       "      <td>0</td>\n",
       "      <td>3.09</td>\n",
       "      <td>US</td>\n",
       "      <td>1684944806</td>\n",
       "    </tr>\n",
       "    <tr>\n",
       "      <th>3</th>\n",
       "      <td>3</td>\n",
       "      <td>grytviken</td>\n",
       "      <td>-54.2811</td>\n",
       "      <td>-36.5092</td>\n",
       "      <td>0.31</td>\n",
       "      <td>77</td>\n",
       "      <td>54</td>\n",
       "      <td>6.37</td>\n",
       "      <td>GS</td>\n",
       "      <td>1684944731</td>\n",
       "    </tr>\n",
       "    <tr>\n",
       "      <th>4</th>\n",
       "      <td>4</td>\n",
       "      <td>waitangi</td>\n",
       "      <td>-43.9535</td>\n",
       "      <td>-176.5597</td>\n",
       "      <td>11.16</td>\n",
       "      <td>58</td>\n",
       "      <td>20</td>\n",
       "      <td>6.86</td>\n",
       "      <td>NZ</td>\n",
       "      <td>1684944730</td>\n",
       "    </tr>\n",
       "  </tbody>\n",
       "</table>\n",
       "</div>"
      ],
      "text/plain": [
       "   City_ID       City      Lat       Lng  Max Temp  Humidity  Cloudiness  \\\n",
       "0        0  adamstown -25.0660 -130.1015     24.26        72          75   \n",
       "1        1   ust-nera  64.5667  143.2000      1.61        98         100   \n",
       "2        2     bethel  41.3712  -73.4140     23.56        55           0   \n",
       "3        3  grytviken -54.2811  -36.5092      0.31        77          54   \n",
       "4        4   waitangi -43.9535 -176.5597     11.16        58          20   \n",
       "\n",
       "   Wind Speed Country        Date  \n",
       "0        5.26      PN  1684944719  \n",
       "1        1.15      RU  1684944810  \n",
       "2        3.09      US  1684944806  \n",
       "3        6.37      GS  1684944731  \n",
       "4        6.86      NZ  1684944730  "
      ]
     },
     "execution_count": 6,
     "metadata": {},
     "output_type": "execute_result"
    }
   ],
   "source": [
    "# Load the CSV file created in Part 1 into a Pandas DataFrame\n",
    "city_data_df = pd.read_csv(\"../WeatherPy/output_data/cities.csv\")\n",
    "\n",
    "# Display sample data\n",
    "city_data_df.head()"
   ]
  },
  {
   "cell_type": "code",
   "execution_count": null,
   "id": "84c1c64c",
   "metadata": {},
   "outputs": [],
   "source": [
    "%%capture --no-display"
   ]
  }
 ],
 "metadata": {
  "kernelspec": {
   "display_name": "Python 3 (ipykernel)",
   "language": "python",
   "name": "python3"
  },
  "language_info": {
   "codemirror_mode": {
    "name": "ipython",
    "version": 3
   },
   "file_extension": ".py",
   "mimetype": "text/x-python",
   "name": "python",
   "nbconvert_exporter": "python",
   "pygments_lexer": "ipython3",
   "version": "3.10.9"
  }
 },
 "nbformat": 4,
 "nbformat_minor": 5
}
